{
 "cells": [
  {
   "cell_type": "code",
   "execution_count": 1,
   "metadata": {},
   "outputs": [],
   "source": [
    "from utils import search_arxiv_simple, arxiv_to_faiss, search_arxiv_advanced, client"
   ]
  },
  {
   "cell_type": "code",
   "execution_count": 2,
   "metadata": {},
   "outputs": [
    {
     "name": "stdout",
     "output_type": "stream",
     "text": [
      "Quantum memristors for neuromorphic quantum machine learning\n",
      "Simultaneous Quantum Machine Learning Training and Architecture Discovery\n",
      "Reconsider HHL algorithm and its related quantum machine learning algorithms\n",
      "Fourier series weight in quantum machine learning\n",
      "A comprehensive review of Quantum Machine Learning: from NISQ to Fault Tolerance\n",
      "Identification and Mitigating Bias in Quantum Machine Learning\n",
      "Implementation of Quantum Machine Learning for Electronic Structure Calculations of Periodic Systems on Quantum Computing Devices\n",
      "Quantum machine learning with indefinite causal order\n",
      "Light-cone feature selection for quantum machine learning\n",
      "Quantum machine learning for data scientists\n"
     ]
    }
   ],
   "source": [
    "search = search_arxiv_simple(\"quantum machine learning\")\n",
    "results = client.results(search)\n",
    "res = list(results)\n",
    "for r in res:\n",
    "    print(r.title)"
   ]
  },
  {
   "cell_type": "code",
   "execution_count": 7,
   "metadata": {},
   "outputs": [
    {
     "name": "stdout",
     "output_type": "stream",
     "text": [
      "Two-electron quantum walks can probe entanglement and decoherence in an electron microscope\n",
      "Electron-electron scattering processes in quantum wells in a quantizing magnetic field\n",
      "Quantum-coherent light-electron interaction in an SEM\n",
      "Quantum description and properties of electrons emitted from pulsed nanotip electron sources\n",
      "Spin polarization of electrons in quantum wires\n",
      "Electron quantum optics as quantum signal processing\n",
      "Quantum optics of single electrons in quantum liquid and solid helium-4\n",
      "Electron--Electron Scattering in Quantum Wires and it's Possible Suppression due to Spin Effects\n",
      "Disordered electron liquid in double quantum well heterostructures: Renormalization group analysis and dephasing rate\n",
      "Insights into the Electron-Electron Interaction from Quantum Monte Carlo Calculations\n"
     ]
    }
   ],
   "source": [
    "search = search_arxiv_advanced(['all:electron', 'all:quantum'], ['all:dots', 'all:nuclear'])\n",
    "results = client.results(search)\n",
    "res = list(results)\n",
    "for r in res:\n",
    "    print(r.title)"
   ]
  },
  {
   "cell_type": "code",
   "execution_count": 4,
   "metadata": {},
   "outputs": [
    {
     "name": "stdout",
     "output_type": "stream",
     "text": [
      "Successfully downloaded: Quantum memristors for neuromorphic quantum machine learning\n",
      "Successfully downloaded: Simultaneous Quantum Machine Learning Training and Architecture Discovery\n",
      "Successfully downloaded: Reconsider HHL algorithm and its related quantum machine learning algorithms\n",
      "Successfully downloaded: Fourier series weight in quantum machine learning\n",
      "Successfully downloaded: A comprehensive review of Quantum Machine Learning: from NISQ to Fault Tolerance\n",
      "Successfully downloaded: Identification and Mitigating Bias in Quantum Machine Learning\n",
      "Successfully downloaded: Implementation of Quantum Machine Learning for Electronic Structure Calculations of Periodic Systems on Quantum Computing Devices\n",
      "Successfully downloaded: Quantum machine learning with indefinite causal order\n",
      "Successfully downloaded: Light-cone feature selection for quantum machine learning\n",
      "Successfully downloaded: Quantum machine learning for data scientists\n",
      "Successfully downloaded 10 out of 10 papers\n",
      "Successfully loaded 10 documents from directory\n",
      "Split into 1643 chunks\n"
     ]
    }
   ],
   "source": [
    "db = arxiv_to_faiss(search = search_arxiv_simple(\"quantum machine learning\", 10))"
   ]
  },
  {
   "cell_type": "code",
   "execution_count": 7,
   "metadata": {},
   "outputs": [],
   "source": [
    "docs = db.similarity_search(\"explain quantum machine learning\", k=4)"
   ]
  },
  {
   "cell_type": "code",
   "execution_count": 8,
   "metadata": {},
   "outputs": [
    {
     "name": "stdout",
     "output_type": "stream",
     "text": [
      "Quantum machine learning is an emerging field inside quantum technologies, which may enable to carry out more efficient machine learning calculations with near-term quantum devices [1-4]. It is apparent that a purely quantum unitary evolution is not enough for an efficient learning process, which implies irreversibility to some extent [1,2]. Therefore, most quantum learning algorithms imply some variant of the so-called quantum-classical protocols, such as variational quantum eigensolvers\n",
      "Quantum machine learning represents a highly promising realm in contemporary physics and computer science research, with far-reaching implications spanning quantum chemistry [108], artificial intelligence [89], and even high-energy physics [7]. Nevertheless, it remains in its nascent stages of development. This is evident from the absence of a precise definition for quantum machine learning. Some describe it as the convergence of quantum computing and machine learning, wherein machine learning\n",
      "Due to its vague definition, quantum machine learning encompasses a broader spectrum of topics. For instance, quantum (shadow) tomography [2] has gained prominence, focusing on the characterization of a given quantum state by accumulating data from various measurements. This involves determining the minimum number of identical quantum state copies needed to extract sufficient information about the state’s properties. Another facet involves machine learning for quantum physics, which entails\n",
      "4.3. Quantum machine learning for quantum data and quantum simulators\n"
     ]
    }
   ],
   "source": [
    "for d in docs:\n",
    "    print(d.page_content)"
   ]
  },
  {
   "cell_type": "code",
   "execution_count": 10,
   "metadata": {},
   "outputs": [],
   "source": [
    "from langchain.chains import RetrievalQA\n",
    "from langchain_openai import OpenAI\n",
    "\n",
    "\n",
    "retriever = db.as_retriever(\n",
    "    search_type=\"similarity\", search_kwargs={\"k\": 4}\n",
    ")\n",
    "# create a chain to answer questions\n",
    "qa = RetrievalQA.from_chain_type(\n",
    "    llm=OpenAI(),\n",
    "    chain_type=\"map_reduce\",\n",
    "    retriever=retriever,\n",
    "    return_source_documents=True,\n",
    "    verbose=True,\n",
    ")"
   ]
  },
  {
   "cell_type": "code",
   "execution_count": 12,
   "metadata": {},
   "outputs": [
    {
     "name": "stdout",
     "output_type": "stream",
     "text": [
      "\n",
      "\n",
      "\u001b[1m> Entering new RetrievalQA chain...\u001b[0m\n",
      "\n",
      "\u001b[1m> Finished chain.\u001b[0m\n"
     ]
    },
    {
     "data": {
      "text/plain": [
       "{'query': 'Explain quantum machine learning',\n",
       " 'result': ' Quantum machine learning is the convergence of quantum computing and machine learning techniques, allowing for more efficient and potentially more accurate data analysis. It combines both quantum and classical techniques and has implications in various fields such as quantum chemistry and artificial intelligence. However, it is still in its early stages of development and lacks a precise definition.',\n",
       " 'source_documents': [Document(id='0badfc44-45a7-4564-bd46-55ecdfe8f8f3', metadata={'source': 'papers\\\\2412.18979v1.Quantum_memristors_for_neuromorphic_quantum_machine_learning.pdf'}, page_content='Quantum machine learning is an emerging field inside quantum technologies, which may enable to carry out more efficient machine learning calculations with near-term quantum devices [1-4]. It is apparent that a purely quantum unitary evolution is not enough for an efficient learning process, which implies irreversibility to some extent [1,2]. Therefore, most quantum learning algorithms imply some variant of the so-called quantum-classical protocols, such as variational quantum eigensolvers'),\n",
       "  Document(id='a67a61be-14c2-4629-8fd6-da8f91a3e9b0', metadata={'source': 'papers\\\\2401.11351v2.A_comprehensive_review_of_Quantum_Machine_Learning__from_NISQ_to_Fault_Tolerance.pdf'}, page_content='Quantum machine learning represents a highly promising realm in contemporary physics and computer science research, with far-reaching implications spanning quantum chemistry [108], artificial intelligence [89], and even high-energy physics [7]. Nevertheless, it remains in its nascent stages of development. This is evident from the absence of a precise definition for quantum machine learning. Some describe it as the convergence of quantum computing and machine learning, wherein machine learning'),\n",
       "  Document(id='7214f5cd-36c0-484b-b172-6440a8252559', metadata={'source': 'papers\\\\2401.11351v2.A_comprehensive_review_of_Quantum_Machine_Learning__from_NISQ_to_Fault_Tolerance.pdf'}, page_content='Due to its vague definition, quantum machine learning encompasses a broader spectrum of topics. For instance, quantum (shadow) tomography [2] has gained prominence, focusing on the characterization of a given quantum state by accumulating data from various measurements. This involves determining the minimum number of identical quantum state copies needed to extract sufficient information about the state’s properties. Another facet involves machine learning for quantum physics, which entails'),\n",
       "  Document(id='dcdf32f3-1fad-4e12-8d15-16fdd00a04b3', metadata={'source': 'papers\\\\2401.11351v2.A_comprehensive_review_of_Quantum_Machine_Learning__from_NISQ_to_Fault_Tolerance.pdf'}, page_content='Abstract. Quantum machine learning, which involves running machine learning algorithms on quantum devices, has garnered significant attention in both academic and business circles. In this paper, we offer a comprehensive and unbiased review of the various concepts that have emerged in the field of quantum machine learning. This includes techniques used in Noisy Intermediate-Scale Quantum (NISQ) technologies and approaches for algorithms compatible with fault-tolerant quantum computing hardware.')]}"
      ]
     },
     "execution_count": 12,
     "metadata": {},
     "output_type": "execute_result"
    }
   ],
   "source": [
    "response = qa(\"Explain quantum machine learning\")\n",
    "response"
   ]
  },
  {
   "cell_type": "code",
   "execution_count": 13,
   "metadata": {},
   "outputs": [
    {
     "data": {
      "text/plain": [
       "' Quantum machine learning is the convergence of quantum computing and machine learning techniques, allowing for more efficient and potentially more accurate data analysis. It combines both quantum and classical techniques and has implications in various fields such as quantum chemistry and artificial intelligence. However, it is still in its early stages of development and lacks a precise definition.'"
      ]
     },
     "execution_count": 13,
     "metadata": {},
     "output_type": "execute_result"
    }
   ],
   "source": [
    "response[\"result\"]"
   ]
  },
  {
   "cell_type": "code",
   "execution_count": 14,
   "metadata": {},
   "outputs": [
    {
     "name": "stdout",
     "output_type": "stream",
     "text": [
      "\n",
      "\n",
      "\u001b[1m> Entering new RetrievalQA chain...\u001b[0m\n",
      "\n",
      "\u001b[1m> Finished chain.\u001b[0m\n"
     ]
    },
    {
     "data": {
      "text/plain": [
       "{'query': 'What are some new findings in the field of quantum machine learning? Where do they come from?',\n",
       " 'result': ' New findings in the field of quantum machine learning include proposals for implementing quantum machine learning algorithms on near-term quantum devices and the development of fault tolerance techniques. These findings have been published in various journals such as Rep. Prog. Phys., Nature, Mach. Learn.: Sci. Technol., and Adv. Quantum Technol.',\n",
       " 'source_documents': [Document(id='a67a61be-14c2-4629-8fd6-da8f91a3e9b0', metadata={'source': 'papers\\\\2401.11351v2.A_comprehensive_review_of_Quantum_Machine_Learning__from_NISQ_to_Fault_Tolerance.pdf'}, page_content='Quantum machine learning represents a highly promising realm in contemporary physics and computer science research, with far-reaching implications spanning quantum chemistry [108], artificial intelligence [89], and even high-energy physics [7]. Nevertheless, it remains in its nascent stages of development. This is evident from the absence of a precise definition for quantum machine learning. Some describe it as the convergence of quantum computing and machine learning, wherein machine learning'),\n",
       "  Document(id='0badfc44-45a7-4564-bd46-55ecdfe8f8f3', metadata={'source': 'papers\\\\2412.18979v1.Quantum_memristors_for_neuromorphic_quantum_machine_learning.pdf'}, page_content='Quantum machine learning is an emerging field inside quantum technologies, which may enable to carry out more efficient machine learning calculations with near-term quantum devices [1-4]. It is apparent that a purely quantum unitary evolution is not enough for an efficient learning process, which implies irreversibility to some extent [1,2]. Therefore, most quantum learning algorithms imply some variant of the so-called quantum-classical protocols, such as variational quantum eigensolvers'),\n",
       "  Document(id='dcdf32f3-1fad-4e12-8d15-16fdd00a04b3', metadata={'source': 'papers\\\\2401.11351v2.A_comprehensive_review_of_Quantum_Machine_Learning__from_NISQ_to_Fault_Tolerance.pdf'}, page_content='Abstract. Quantum machine learning, which involves running machine learning algorithms on quantum devices, has garnered significant attention in both academic and business circles. In this paper, we offer a comprehensive and unbiased review of the various concepts that have emerged in the field of quantum machine learning. This includes techniques used in Noisy Intermediate-Scale Quantum (NISQ) technologies and approaches for algorithms compatible with fault-tolerant quantum computing hardware.'),\n",
       "  Document(id='97cf6298-65d5-47cc-ba7a-36159903749d', metadata={'source': 'papers\\\\2412.18979v1.Quantum_memristors_for_neuromorphic_quantum_machine_learning.pdf'}, page_content='References\\n\\n[1] Yunfei Wang and Junyu Liu, A comprehensive review of quantum machine learning: from NISQ to fault tolerance, Rep. Prog. Phys. 87, 116402 (2024).\\n\\n[2] J. Biamonte et al., Quantum machine learning, Nature 549, 074001 (2017).\\n\\n[3] L. Lamata, Quantum machine learning and quantum biomimetics: A perspective, Mach. Learn.: Sci. Technol. 1, 033002 (2020).\\n\\n[4] L. Lamata, Quantum Machine Learning Experiments, Adv. Quantum Technol. 6, 2300059 (2023).\\n\\nImplementations: Proposals and')]}"
      ]
     },
     "execution_count": 14,
     "metadata": {},
     "output_type": "execute_result"
    }
   ],
   "source": [
    "response2 = qa(\"What are some new findings in the field of quantum machine learning? Where do they come from?\")\n",
    "response2"
   ]
  },
  {
   "cell_type": "code",
   "execution_count": 15,
   "metadata": {},
   "outputs": [
    {
     "data": {
      "text/plain": [
       "' New findings in the field of quantum machine learning include proposals for implementing quantum machine learning algorithms on near-term quantum devices and the development of fault tolerance techniques. These findings have been published in various journals such as Rep. Prog. Phys., Nature, Mach. Learn.: Sci. Technol., and Adv. Quantum Technol.'"
      ]
     },
     "execution_count": 15,
     "metadata": {},
     "output_type": "execute_result"
    }
   ],
   "source": [
    "response2['result']"
   ]
  }
 ],
 "metadata": {
  "kernelspec": {
   "display_name": ".venv",
   "language": "python",
   "name": "python3"
  },
  "language_info": {
   "codemirror_mode": {
    "name": "ipython",
    "version": 3
   },
   "file_extension": ".py",
   "mimetype": "text/x-python",
   "name": "python",
   "nbconvert_exporter": "python",
   "pygments_lexer": "ipython3",
   "version": "3.12.0"
  }
 },
 "nbformat": 4,
 "nbformat_minor": 2
}
